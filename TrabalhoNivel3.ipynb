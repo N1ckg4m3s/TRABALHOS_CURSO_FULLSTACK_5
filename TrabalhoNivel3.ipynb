{
  "cells": [
    {
      "cell_type": "markdown",
      "metadata": {
        "id": "view-in-github",
        "colab_type": "text"
      },
      "source": [
        "<a href=\"https://colab.research.google.com/github/N1ckg4m3s/TRABALHOS_CURSO_FULLSTACK_5/blob/main/TrabalhoNivel3.ipynb\" target=\"_parent\"><img src=\"https://colab.research.google.com/assets/colab-badge.svg\" alt=\"Open In Colab\"/></a>"
      ]
    },
    {
      "cell_type": "markdown",
      "metadata": {
        "id": "JC0kCQPDPfaO"
      },
      "source": [
        "# MICRO ATIVIDADE 1"
      ]
    },
    {
      "cell_type": "markdown",
      "metadata": {
        "id": "dOHdmxicP_84"
      },
      "source": [
        "Instalação das bibliotecas necessarias para ler um arquivo"
      ]
    },
    {
      "cell_type": "code",
      "execution_count": 14,
      "metadata": {
        "colab": {
          "base_uri": "https://localhost:8080/"
        },
        "id": "NYNklPQmPw1z",
        "outputId": "a527833c-0041-45f5-8de9-9413623b13c5"
      },
      "outputs": [
        {
          "output_type": "stream",
          "name": "stdout",
          "text": [
            "Requirement already satisfied: pandas in /usr/local/lib/python3.10/dist-packages (2.1.4)\n",
            "Requirement already satisfied: numpy<2,>=1.22.4 in /usr/local/lib/python3.10/dist-packages (from pandas) (1.26.4)\n",
            "Requirement already satisfied: python-dateutil>=2.8.2 in /usr/local/lib/python3.10/dist-packages (from pandas) (2.8.2)\n",
            "Requirement already satisfied: pytz>=2020.1 in /usr/local/lib/python3.10/dist-packages (from pandas) (2024.1)\n",
            "Requirement already satisfied: tzdata>=2022.1 in /usr/local/lib/python3.10/dist-packages (from pandas) (2024.1)\n",
            "Requirement already satisfied: six>=1.5 in /usr/local/lib/python3.10/dist-packages (from python-dateutil>=2.8.2->pandas) (1.16.0)\n"
          ]
        }
      ],
      "source": [
        "!pip install pandas"
      ]
    },
    {
      "cell_type": "markdown",
      "metadata": {
        "id": "tImGCACIURr7"
      },
      "source": [
        "Importar e imprimir o cabeçalho dos dados"
      ]
    },
    {
      "cell_type": "code",
      "execution_count": null,
      "metadata": {
        "colab": {
          "base_uri": "https://localhost:8080/"
        },
        "id": "WWocs7NNQWTI",
        "outputId": "0f49ea28-fab9-4810-c9f7-e6eee8fdbebc"
      },
      "outputs": [
        {
          "output_type": "stream",
          "name": "stdout",
          "text": [
            "   ID  Duration          Date  Pulse  Maxpulse  Calories\n",
            "0   0        60  '2020/12/01'    110       130    4091.0\n",
            "1   1        60  '2020/12/02'    117       145    4790.0\n",
            "2   2        60  '2020/12/03'    103       135    3400.0\n",
            "3   3        45  '2020/12/04'    109       175    2824.0\n",
            "4   4        45  '2020/12/05'    117       148    4060.0\n"
          ]
        }
      ],
      "source": [
        "import pandas as pd\n",
        "\n",
        "Dados=pd.read_excel(\"DadosExcel.xlsx\")\n",
        "\n",
        "print(Dados.head())"
      ]
    },
    {
      "cell_type": "markdown",
      "metadata": {
        "id": "orhJa4GSTQKy"
      },
      "source": [
        "# MICRO ATIVIDADE 2"
      ]
    },
    {
      "cell_type": "markdown",
      "metadata": {
        "id": "bqfwFYG8VGHo"
      },
      "source": [
        "Utilizando como base os dados da Micro Atividade 1\n",
        "\n",
        "Criar um Subconjunto com colunas pre-determinadas."
      ]
    },
    {
      "cell_type": "code",
      "execution_count": null,
      "metadata": {
        "colab": {
          "base_uri": "https://localhost:8080/"
        },
        "id": "XOsng5DUVCGS",
        "outputId": "b53a9af0-73fb-4b5b-893c-6ffd2f8edf0a"
      },
      "outputs": [
        {
          "name": "stdout",
          "output_type": "stream",
          "text": [
            "   Duration  Pulse  Calories\n",
            "0        60    110    4091.0\n",
            "1        60    117    4790.0\n",
            "2        60    103    3400.0\n",
            "3        45    109    2824.0\n",
            "4        45    117    4060.0\n"
          ]
        }
      ],
      "source": [
        "SubConjunto = Dados[[\"Duration\",\"Pulse\",\"Calories\"]]\n",
        "\n",
        "print(SubConjunto.head())"
      ]
    },
    {
      "cell_type": "markdown",
      "metadata": {
        "id": "PGeOCdPkXc8A"
      },
      "source": [
        "# MICRO ATIVIDADE 3\n"
      ]
    },
    {
      "cell_type": "markdown",
      "metadata": {
        "id": "HuLWLRtrX3u6"
      },
      "source": [
        "Utilizando como base os dados da Micro Atividade 1\n",
        "\n",
        "Determinar um tamanho maximo de rows mostradas"
      ]
    },
    {
      "cell_type": "code",
      "execution_count": null,
      "metadata": {
        "colab": {
          "base_uri": "https://localhost:8080/"
        },
        "id": "27ZBYzUdX3c0",
        "outputId": "802a6c5f-df3a-4460-b723-4a9a62c35867"
      },
      "outputs": [
        {
          "name": "stdout",
          "output_type": "stream",
          "text": [
            "    ID  Duration          Date  Pulse  Maxpulse  Calories\n",
            "0    0        60  '2020/12/01'    110       130    4091.0\n",
            "1    1        60  '2020/12/02'    117       145    4790.0\n",
            "2    2        60  '2020/12/03'    103       135    3400.0\n",
            "3    3        45  '2020/12/04'    109       175    2824.0\n",
            "4    4        45  '2020/12/05'    117       148    4060.0\n",
            "5    5        60  '2020/12/06'    102       127    3000.0\n",
            "6    6        60  '2020/12/07'    110       136    3740.0\n",
            "7    7       450  '2020/12/08'    104       134    2533.0\n",
            "8    8        30  '2020/12/09'    109       133    1951.0\n",
            "9    9        60  '2020/12/10'     98       124    2690.0\n",
            "10  10        60  '2020/12/11'    103       147    3293.0\n",
            "11  11        60  '2020/12/12'    100       120    2507.0\n",
            "12  12        60  '2020/12/12'    100       120    2507.0\n",
            "13  13        60  '2020/12/13'    106       128    3453.0\n",
            "14  14        60  '2020/12/14'    104       132    3793.0\n",
            "15  15        60  '2020/12/15'     98       123    2750.0\n",
            "16  16        60  '2020/12/16'     98       120    2152.0\n",
            "17  17        60  '2020/12/17'    100       120    3000.0\n",
            "18  18        45  '2020/12/18'     90       112       NaN\n",
            "19  19        60  '2020/12/19'    103       123    3230.0\n",
            "20  20        45  '2020/12/20'     97       125    2430.0\n",
            "21   1        60  '2020/12/21'    108       131    3642.0\n",
            "22  22        45           NaN    100       119    2820.0\n",
            "23  23        60  '2020/12/23'    130       101    3000.0\n",
            "24  24        45  '2020/12/24'    105       132    2460.0\n",
            "25  25        60  '2020/12/25'    102       126    3345.0\n",
            "26  26        60      20201226    100       120    2500.0\n",
            "27  27        60  '2020/12/27'     92       118    2410.0\n",
            "28  28        60  '2020/12/28'    103       132       NaN\n",
            "29  29        60  '2020/12/29'    100       132    2800.0\n",
            "30  30        60  '2020/12/30'    102       129    3803.0\n",
            "31  31        60  '2020/12/31'     92       115    2430.0\n"
          ]
        }
      ],
      "source": [
        "TamanhoMaximo=9999;\n",
        "pd.set_option(\"display.max_rows\", TamanhoMaximo)\n",
        "\n",
        "print(Dados)"
      ]
    },
    {
      "cell_type": "markdown",
      "metadata": {
        "id": "MevzjfkFYo9x"
      },
      "source": [
        "# MICRO ATIVIDADE 4\n",
        "\n",
        "\n"
      ]
    },
    {
      "cell_type": "markdown",
      "metadata": {
        "id": "6lN3aIQZYo9x"
      },
      "source": [
        "Utilizando como base os dados da Micro Atividade 1\n",
        "\n",
        "Exibir um determinado numero de linhas do começo e do final"
      ]
    },
    {
      "cell_type": "code",
      "execution_count": null,
      "metadata": {
        "colab": {
          "base_uri": "https://localhost:8080/"
        },
        "id": "rcUIozmZYo9x",
        "outputId": "a9595cc6-b1cf-413e-83ff-1fbb2607a73d"
      },
      "outputs": [
        {
          "name": "stdout",
          "output_type": "stream",
          "text": [
            "primeiras 3 linhas\n",
            "   ID  Duration          Date  Pulse  Maxpulse  Calories\n",
            "0   0        60  '2020/12/01'    110       130    4091.0\n",
            "1   1        60  '2020/12/02'    117       145    4790.0\n",
            "2   2        60  '2020/12/03'    103       135    3400.0\n",
            "\n",
            "===========================================\n",
            "\n",
            "ultimas 10 linhas\n",
            "    ID  Duration          Date  Pulse  Maxpulse  Calories\n",
            "22  22        45           NaN    100       119    2820.0\n",
            "23  23        60  '2020/12/23'    130       101    3000.0\n",
            "24  24        45  '2020/12/24'    105       132    2460.0\n",
            "25  25        60  '2020/12/25'    102       126    3345.0\n",
            "26  26        60      20201226    100       120    2500.0\n",
            "27  27        60  '2020/12/27'     92       118    2410.0\n",
            "28  28        60  '2020/12/28'    103       132       NaN\n",
            "29  29        60  '2020/12/29'    100       132    2800.0\n",
            "30  30        60  '2020/12/30'    102       129    3803.0\n",
            "31  31        60  '2020/12/31'     92       115    2430.0\n"
          ]
        }
      ],
      "source": [
        "LinhasDoTopo=3;\n",
        "LinhasDoFim=10\n",
        "\n",
        "print(f'primeiras {LinhasDoTopo} linhas')\n",
        "print(Dados.head(LinhasDoTopo))\n",
        "\n",
        "print()\n",
        "print('===========================================')\n",
        "print()\n",
        "\n",
        "print(f'ultimas {LinhasDoFim} linhas')\n",
        "print(Dados.tail(LinhasDoFim))"
      ]
    },
    {
      "cell_type": "markdown",
      "metadata": {
        "id": "CfUoFr9iaAgR"
      },
      "source": [
        "# MICRO ATIVIDADE 5\n",
        "\n",
        "\n",
        "\n",
        "\n",
        "\n"
      ]
    },
    {
      "cell_type": "markdown",
      "metadata": {
        "id": "qt_IJsBraAgR"
      },
      "source": [
        "Utilizando como base os dados da Micro Atividade 1\n",
        "\n",
        "Exibir informações sobre a tabela"
      ]
    },
    {
      "cell_type": "code",
      "execution_count": null,
      "metadata": {
        "colab": {
          "base_uri": "https://localhost:8080/"
        },
        "id": "KRTW5070aAgR",
        "outputId": "ab3d2927-1882-4073-993c-269ab4d30c78"
      },
      "outputs": [
        {
          "name": "stdout",
          "output_type": "stream",
          "text": [
            "Informações gerais\n",
            "<class 'pandas.core.frame.DataFrame'>\n",
            "RangeIndex: 32 entries, 0 to 31\n",
            "Data columns (total 6 columns):\n",
            " #   Column    Non-Null Count  Dtype  \n",
            "---  ------    --------------  -----  \n",
            " 0   ID        32 non-null     int64  \n",
            " 1   Duration  32 non-null     int64  \n",
            " 2   Date      31 non-null     object \n",
            " 3   Pulse     32 non-null     int64  \n",
            " 4   Maxpulse  32 non-null     int64  \n",
            " 5   Calories  30 non-null     float64\n",
            "dtypes: float64(1), int64(4), object(1)\n",
            "memory usage: 1.6+ KB\n",
            "None\n",
            "============================================\n",
            "A tabela tem: 32 linhas\n",
            "A tabela tem: 6 colunas\n",
            "============================================\n",
            "A tabela tem: \n",
            "ID          0\n",
            "Duration    0\n",
            "Date        1\n",
            "Pulse       0\n",
            "Maxpulse    0\n",
            "Calories    2\n",
            "dtype: int64\n",
            " dados nulos\n",
            "============================================\n",
            "A Tipo de dados da tabela: \n",
            " ID            int64\n",
            "Duration      int64\n",
            "Date         object\n",
            "Pulse         int64\n",
            "Maxpulse      int64\n",
            "Calories    float64\n",
            "dtype: object\n",
            "============================================\n",
            "A tabela esta usando: 3546 bytes de memoria\n"
          ]
        }
      ],
      "source": [
        "print(\"Informações gerais\")\n",
        "print(Dados.info())\n",
        "\n",
        "print(\"============================================\") # simples espaçamento\n",
        "\n",
        "NumeroLinhas, NumeroColunas=Dados.shape\n",
        "print(f'A tabela tem: {NumeroLinhas} linhas')\n",
        "print(f'A tabela tem: {NumeroColunas} colunas')\n",
        "\n",
        "print(\"============================================\") # simples espaçamento\n",
        "\n",
        "print(f'A tabela tem: \\n{Dados.isnull().sum()}\\n dados nulos')\n",
        "\n",
        "print(\"============================================\") # simples espaçamento\n",
        "\n",
        "print(f'A Tipo de dados da tabela: \\n {Dados.dtypes}')\n",
        "\n",
        "print(\"============================================\") # simples espaçamento\n",
        "\n",
        "print(f'A tabela esta usando: {Dados.memory_usage(deep=True).sum()} bytes de memoria')\n"
      ]
    },
    {
      "cell_type": "markdown",
      "metadata": {
        "id": "lEuXjil6cwXe"
      },
      "source": [
        "# ATIVIDADE"
      ]
    },
    {
      "cell_type": "code",
      "source": [
        "!pip install pandas"
      ],
      "metadata": {
        "colab": {
          "base_uri": "https://localhost:8080/"
        },
        "id": "tNul7wbmxCcl",
        "outputId": "9da8e81f-4bf5-44da-f09f-ca923a9a1f62"
      },
      "execution_count": 12,
      "outputs": [
        {
          "output_type": "stream",
          "name": "stdout",
          "text": [
            "Requirement already satisfied: pandas in /usr/local/lib/python3.10/dist-packages (2.1.4)\n",
            "Requirement already satisfied: numpy<2,>=1.22.4 in /usr/local/lib/python3.10/dist-packages (from pandas) (1.26.4)\n",
            "Requirement already satisfied: python-dateutil>=2.8.2 in /usr/local/lib/python3.10/dist-packages (from pandas) (2.8.2)\n",
            "Requirement already satisfied: pytz>=2020.1 in /usr/local/lib/python3.10/dist-packages (from pandas) (2024.1)\n",
            "Requirement already satisfied: tzdata>=2022.1 in /usr/local/lib/python3.10/dist-packages (from pandas) (2024.1)\n",
            "Requirement already satisfied: six>=1.5 in /usr/local/lib/python3.10/dist-packages (from python-dateutil>=2.8.2->pandas) (1.16.0)\n"
          ]
        }
      ]
    },
    {
      "cell_type": "code",
      "execution_count": 15,
      "metadata": {
        "colab": {
          "base_uri": "https://localhost:8080/",
          "height": 206
        },
        "id": "yRceIoO1fmy3",
        "outputId": "eb621538-a7ab-45dd-d73c-5786cb3583df"
      },
      "outputs": [
        {
          "output_type": "execute_result",
          "data": {
            "text/plain": [
              "   ID  Duration          Date  Pulse  Maxpulse  Calories\n",
              "0   0        60  '2020/12/01'    110       130    4091.0\n",
              "1   1        60  '2020/12/02'    117       145    4790.0\n",
              "2   2        60  '2020/12/03'    103       135    3400.0\n",
              "3   3        45  '2020/12/04'    109       175    2824.0\n",
              "4   4        45  '2020/12/05'    117       148    4060.0"
            ],
            "text/html": [
              "\n",
              "  <div id=\"df-194f1d29-c82b-482e-b822-ec8b77e697dc\" class=\"colab-df-container\">\n",
              "    <div>\n",
              "<style scoped>\n",
              "    .dataframe tbody tr th:only-of-type {\n",
              "        vertical-align: middle;\n",
              "    }\n",
              "\n",
              "    .dataframe tbody tr th {\n",
              "        vertical-align: top;\n",
              "    }\n",
              "\n",
              "    .dataframe thead th {\n",
              "        text-align: right;\n",
              "    }\n",
              "</style>\n",
              "<table border=\"1\" class=\"dataframe\">\n",
              "  <thead>\n",
              "    <tr style=\"text-align: right;\">\n",
              "      <th></th>\n",
              "      <th>ID</th>\n",
              "      <th>Duration</th>\n",
              "      <th>Date</th>\n",
              "      <th>Pulse</th>\n",
              "      <th>Maxpulse</th>\n",
              "      <th>Calories</th>\n",
              "    </tr>\n",
              "  </thead>\n",
              "  <tbody>\n",
              "    <tr>\n",
              "      <th>0</th>\n",
              "      <td>0</td>\n",
              "      <td>60</td>\n",
              "      <td>'2020/12/01'</td>\n",
              "      <td>110</td>\n",
              "      <td>130</td>\n",
              "      <td>4091.0</td>\n",
              "    </tr>\n",
              "    <tr>\n",
              "      <th>1</th>\n",
              "      <td>1</td>\n",
              "      <td>60</td>\n",
              "      <td>'2020/12/02'</td>\n",
              "      <td>117</td>\n",
              "      <td>145</td>\n",
              "      <td>4790.0</td>\n",
              "    </tr>\n",
              "    <tr>\n",
              "      <th>2</th>\n",
              "      <td>2</td>\n",
              "      <td>60</td>\n",
              "      <td>'2020/12/03'</td>\n",
              "      <td>103</td>\n",
              "      <td>135</td>\n",
              "      <td>3400.0</td>\n",
              "    </tr>\n",
              "    <tr>\n",
              "      <th>3</th>\n",
              "      <td>3</td>\n",
              "      <td>45</td>\n",
              "      <td>'2020/12/04'</td>\n",
              "      <td>109</td>\n",
              "      <td>175</td>\n",
              "      <td>2824.0</td>\n",
              "    </tr>\n",
              "    <tr>\n",
              "      <th>4</th>\n",
              "      <td>4</td>\n",
              "      <td>45</td>\n",
              "      <td>'2020/12/05'</td>\n",
              "      <td>117</td>\n",
              "      <td>148</td>\n",
              "      <td>4060.0</td>\n",
              "    </tr>\n",
              "  </tbody>\n",
              "</table>\n",
              "</div>\n",
              "    <div class=\"colab-df-buttons\">\n",
              "\n",
              "  <div class=\"colab-df-container\">\n",
              "    <button class=\"colab-df-convert\" onclick=\"convertToInteractive('df-194f1d29-c82b-482e-b822-ec8b77e697dc')\"\n",
              "            title=\"Convert this dataframe to an interactive table.\"\n",
              "            style=\"display:none;\">\n",
              "\n",
              "  <svg xmlns=\"http://www.w3.org/2000/svg\" height=\"24px\" viewBox=\"0 -960 960 960\">\n",
              "    <path d=\"M120-120v-720h720v720H120Zm60-500h600v-160H180v160Zm220 220h160v-160H400v160Zm0 220h160v-160H400v160ZM180-400h160v-160H180v160Zm440 0h160v-160H620v160ZM180-180h160v-160H180v160Zm440 0h160v-160H620v160Z\"/>\n",
              "  </svg>\n",
              "    </button>\n",
              "\n",
              "  <style>\n",
              "    .colab-df-container {\n",
              "      display:flex;\n",
              "      gap: 12px;\n",
              "    }\n",
              "\n",
              "    .colab-df-convert {\n",
              "      background-color: #E8F0FE;\n",
              "      border: none;\n",
              "      border-radius: 50%;\n",
              "      cursor: pointer;\n",
              "      display: none;\n",
              "      fill: #1967D2;\n",
              "      height: 32px;\n",
              "      padding: 0 0 0 0;\n",
              "      width: 32px;\n",
              "    }\n",
              "\n",
              "    .colab-df-convert:hover {\n",
              "      background-color: #E2EBFA;\n",
              "      box-shadow: 0px 1px 2px rgba(60, 64, 67, 0.3), 0px 1px 3px 1px rgba(60, 64, 67, 0.15);\n",
              "      fill: #174EA6;\n",
              "    }\n",
              "\n",
              "    .colab-df-buttons div {\n",
              "      margin-bottom: 4px;\n",
              "    }\n",
              "\n",
              "    [theme=dark] .colab-df-convert {\n",
              "      background-color: #3B4455;\n",
              "      fill: #D2E3FC;\n",
              "    }\n",
              "\n",
              "    [theme=dark] .colab-df-convert:hover {\n",
              "      background-color: #434B5C;\n",
              "      box-shadow: 0px 1px 3px 1px rgba(0, 0, 0, 0.15);\n",
              "      filter: drop-shadow(0px 1px 2px rgba(0, 0, 0, 0.3));\n",
              "      fill: #FFFFFF;\n",
              "    }\n",
              "  </style>\n",
              "\n",
              "    <script>\n",
              "      const buttonEl =\n",
              "        document.querySelector('#df-194f1d29-c82b-482e-b822-ec8b77e697dc button.colab-df-convert');\n",
              "      buttonEl.style.display =\n",
              "        google.colab.kernel.accessAllowed ? 'block' : 'none';\n",
              "\n",
              "      async function convertToInteractive(key) {\n",
              "        const element = document.querySelector('#df-194f1d29-c82b-482e-b822-ec8b77e697dc');\n",
              "        const dataTable =\n",
              "          await google.colab.kernel.invokeFunction('convertToInteractive',\n",
              "                                                    [key], {});\n",
              "        if (!dataTable) return;\n",
              "\n",
              "        const docLinkHtml = 'Like what you see? Visit the ' +\n",
              "          '<a target=\"_blank\" href=https://colab.research.google.com/notebooks/data_table.ipynb>data table notebook</a>'\n",
              "          + ' to learn more about interactive tables.';\n",
              "        element.innerHTML = '';\n",
              "        dataTable['output_type'] = 'display_data';\n",
              "        await google.colab.output.renderOutput(dataTable, element);\n",
              "        const docLink = document.createElement('div');\n",
              "        docLink.innerHTML = docLinkHtml;\n",
              "        element.appendChild(docLink);\n",
              "      }\n",
              "    </script>\n",
              "  </div>\n",
              "\n",
              "\n",
              "<div id=\"df-5f5e201f-2398-4a18-ae9c-5125a461af0f\">\n",
              "  <button class=\"colab-df-quickchart\" onclick=\"quickchart('df-5f5e201f-2398-4a18-ae9c-5125a461af0f')\"\n",
              "            title=\"Suggest charts\"\n",
              "            style=\"display:none;\">\n",
              "\n",
              "<svg xmlns=\"http://www.w3.org/2000/svg\" height=\"24px\"viewBox=\"0 0 24 24\"\n",
              "     width=\"24px\">\n",
              "    <g>\n",
              "        <path d=\"M19 3H5c-1.1 0-2 .9-2 2v14c0 1.1.9 2 2 2h14c1.1 0 2-.9 2-2V5c0-1.1-.9-2-2-2zM9 17H7v-7h2v7zm4 0h-2V7h2v10zm4 0h-2v-4h2v4z\"/>\n",
              "    </g>\n",
              "</svg>\n",
              "  </button>\n",
              "\n",
              "<style>\n",
              "  .colab-df-quickchart {\n",
              "      --bg-color: #E8F0FE;\n",
              "      --fill-color: #1967D2;\n",
              "      --hover-bg-color: #E2EBFA;\n",
              "      --hover-fill-color: #174EA6;\n",
              "      --disabled-fill-color: #AAA;\n",
              "      --disabled-bg-color: #DDD;\n",
              "  }\n",
              "\n",
              "  [theme=dark] .colab-df-quickchart {\n",
              "      --bg-color: #3B4455;\n",
              "      --fill-color: #D2E3FC;\n",
              "      --hover-bg-color: #434B5C;\n",
              "      --hover-fill-color: #FFFFFF;\n",
              "      --disabled-bg-color: #3B4455;\n",
              "      --disabled-fill-color: #666;\n",
              "  }\n",
              "\n",
              "  .colab-df-quickchart {\n",
              "    background-color: var(--bg-color);\n",
              "    border: none;\n",
              "    border-radius: 50%;\n",
              "    cursor: pointer;\n",
              "    display: none;\n",
              "    fill: var(--fill-color);\n",
              "    height: 32px;\n",
              "    padding: 0;\n",
              "    width: 32px;\n",
              "  }\n",
              "\n",
              "  .colab-df-quickchart:hover {\n",
              "    background-color: var(--hover-bg-color);\n",
              "    box-shadow: 0 1px 2px rgba(60, 64, 67, 0.3), 0 1px 3px 1px rgba(60, 64, 67, 0.15);\n",
              "    fill: var(--button-hover-fill-color);\n",
              "  }\n",
              "\n",
              "  .colab-df-quickchart-complete:disabled,\n",
              "  .colab-df-quickchart-complete:disabled:hover {\n",
              "    background-color: var(--disabled-bg-color);\n",
              "    fill: var(--disabled-fill-color);\n",
              "    box-shadow: none;\n",
              "  }\n",
              "\n",
              "  .colab-df-spinner {\n",
              "    border: 2px solid var(--fill-color);\n",
              "    border-color: transparent;\n",
              "    border-bottom-color: var(--fill-color);\n",
              "    animation:\n",
              "      spin 1s steps(1) infinite;\n",
              "  }\n",
              "\n",
              "  @keyframes spin {\n",
              "    0% {\n",
              "      border-color: transparent;\n",
              "      border-bottom-color: var(--fill-color);\n",
              "      border-left-color: var(--fill-color);\n",
              "    }\n",
              "    20% {\n",
              "      border-color: transparent;\n",
              "      border-left-color: var(--fill-color);\n",
              "      border-top-color: var(--fill-color);\n",
              "    }\n",
              "    30% {\n",
              "      border-color: transparent;\n",
              "      border-left-color: var(--fill-color);\n",
              "      border-top-color: var(--fill-color);\n",
              "      border-right-color: var(--fill-color);\n",
              "    }\n",
              "    40% {\n",
              "      border-color: transparent;\n",
              "      border-right-color: var(--fill-color);\n",
              "      border-top-color: var(--fill-color);\n",
              "    }\n",
              "    60% {\n",
              "      border-color: transparent;\n",
              "      border-right-color: var(--fill-color);\n",
              "    }\n",
              "    80% {\n",
              "      border-color: transparent;\n",
              "      border-right-color: var(--fill-color);\n",
              "      border-bottom-color: var(--fill-color);\n",
              "    }\n",
              "    90% {\n",
              "      border-color: transparent;\n",
              "      border-bottom-color: var(--fill-color);\n",
              "    }\n",
              "  }\n",
              "</style>\n",
              "\n",
              "  <script>\n",
              "    async function quickchart(key) {\n",
              "      const quickchartButtonEl =\n",
              "        document.querySelector('#' + key + ' button');\n",
              "      quickchartButtonEl.disabled = true;  // To prevent multiple clicks.\n",
              "      quickchartButtonEl.classList.add('colab-df-spinner');\n",
              "      try {\n",
              "        const charts = await google.colab.kernel.invokeFunction(\n",
              "            'suggestCharts', [key], {});\n",
              "      } catch (error) {\n",
              "        console.error('Error during call to suggestCharts:', error);\n",
              "      }\n",
              "      quickchartButtonEl.classList.remove('colab-df-spinner');\n",
              "      quickchartButtonEl.classList.add('colab-df-quickchart-complete');\n",
              "    }\n",
              "    (() => {\n",
              "      let quickchartButtonEl =\n",
              "        document.querySelector('#df-5f5e201f-2398-4a18-ae9c-5125a461af0f button');\n",
              "      quickchartButtonEl.style.display =\n",
              "        google.colab.kernel.accessAllowed ? 'block' : 'none';\n",
              "    })();\n",
              "  </script>\n",
              "</div>\n",
              "\n",
              "    </div>\n",
              "  </div>\n"
            ],
            "application/vnd.google.colaboratory.intrinsic+json": {
              "type": "dataframe",
              "variable_name": "DfAtividade",
              "summary": "{\n  \"name\": \"DfAtividade\",\n  \"rows\": 32,\n  \"fields\": [\n    {\n      \"column\": \"ID\",\n      \"properties\": {\n        \"dtype\": \"number\",\n        \"std\": 9,\n        \"min\": 0,\n        \"max\": 31,\n        \"num_unique_values\": 31,\n        \"samples\": [\n          28,\n          15,\n          24\n        ],\n        \"semantic_type\": \"\",\n        \"description\": \"\"\n      }\n    },\n    {\n      \"column\": \"Duration\",\n      \"properties\": {\n        \"dtype\": \"number\",\n        \"std\": 70,\n        \"min\": 30,\n        \"max\": 450,\n        \"num_unique_values\": 4,\n        \"samples\": [\n          45,\n          30,\n          60\n        ],\n        \"semantic_type\": \"\",\n        \"description\": \"\"\n      }\n    },\n    {\n      \"column\": \"Date\",\n      \"properties\": {\n        \"dtype\": \"string\",\n        \"num_unique_values\": 30,\n        \"samples\": [\n          \"'2020/12/29'\",\n          \"'2020/12/16'\",\n          \"'2020/12/25'\"\n        ],\n        \"semantic_type\": \"\",\n        \"description\": \"\"\n      }\n    },\n    {\n      \"column\": \"Pulse\",\n      \"properties\": {\n        \"dtype\": \"number\",\n        \"std\": 7,\n        \"min\": 90,\n        \"max\": 130,\n        \"num_unique_values\": 15,\n        \"samples\": [\n          90,\n          108,\n          110\n        ],\n        \"semantic_type\": \"\",\n        \"description\": \"\"\n      }\n    },\n    {\n      \"column\": \"Maxpulse\",\n      \"properties\": {\n        \"dtype\": \"number\",\n        \"std\": 12,\n        \"min\": 101,\n        \"max\": 175,\n        \"num_unique_values\": 24,\n        \"samples\": [\n          133,\n          125,\n          130\n        ],\n        \"semantic_type\": \"\",\n        \"description\": \"\"\n      }\n    },\n    {\n      \"column\": \"Calories\",\n      \"properties\": {\n        \"dtype\": \"number\",\n        \"std\": 660.0377941111951,\n        \"min\": 1951.0,\n        \"max\": 4790.0,\n        \"num_unique_values\": 26,\n        \"samples\": [\n          1951.0,\n          3230.0,\n          4091.0\n        ],\n        \"semantic_type\": \"\",\n        \"description\": \"\"\n      }\n    }\n  ]\n}"
            }
          },
          "metadata": {},
          "execution_count": 15
        }
      ],
      "source": [
        "import pandas as pd\n",
        "DfAtividade=pd.read_excel(\"DadosExcel.xlsx\")      # 3 - 4\n",
        "\n",
        "DfAtividade.head()"
      ]
    },
    {
      "cell_type": "code",
      "execution_count": 16,
      "metadata": {
        "colab": {
          "base_uri": "https://localhost:8080/"
        },
        "id": "u6RrctCGqHt3",
        "outputId": "23ec6d97-e5cf-4f0a-bed1-b37b65e4838b"
      },
      "outputs": [
        {
          "output_type": "stream",
          "name": "stdout",
          "text": [
            "Topo tabela\n",
            "   ID  Duration          Date  Pulse  Maxpulse  Calories\n",
            "0   0        60  '2020/12/01'    110       130    4091.0\n",
            "1   1        60  '2020/12/02'    117       145    4790.0\n",
            "2   2        60  '2020/12/03'    103       135    3400.0\n",
            "3   3        45  '2020/12/04'    109       175    2824.0\n",
            "4   4        45  '2020/12/05'    117       148    4060.0\n",
            "\n",
            "Fim tabela\n",
            "    ID  Duration          Date  Pulse  Maxpulse  Calories\n",
            "27  27        60  '2020/12/27'     92       118    2410.0\n",
            "28  28        60  '2020/12/28'    103       132       NaN\n",
            "29  29        60  '2020/12/29'    100       132    2800.0\n",
            "30  30        60  '2020/12/30'    102       129    3803.0\n",
            "31  31        60  '2020/12/31'     92       115    2430.0\n"
          ]
        }
      ],
      "source": [
        "print(\"Topo tabela\")\n",
        "print(DfAtividade.head(5))      # 5\n",
        "print()\n",
        "print(\"Fim tabela\")\n",
        "print(DfAtividade.tail(5))      # 5"
      ]
    },
    {
      "cell_type": "code",
      "execution_count": 17,
      "metadata": {
        "id": "Vcnv_DtSqNO-"
      },
      "outputs": [],
      "source": [
        "DfCopia=DfAtividade.copy()      # 6"
      ]
    },
    {
      "cell_type": "code",
      "execution_count": 18,
      "metadata": {
        "colab": {
          "base_uri": "https://localhost:8080/"
        },
        "id": "kKpxOPB3qNoh",
        "outputId": "4766344e-3bdc-4d9a-bff6-bd8a64554d86"
      },
      "outputs": [
        {
          "output_type": "stream",
          "name": "stdout",
          "text": [
            "0     4091.0\n",
            "1     4790.0\n",
            "2     3400.0\n",
            "3     2824.0\n",
            "4     4060.0\n",
            "5     3000.0\n",
            "6     3740.0\n",
            "7     2533.0\n",
            "8     1951.0\n",
            "9     2690.0\n",
            "10    3293.0\n",
            "11    2507.0\n",
            "12    2507.0\n",
            "13    3453.0\n",
            "14    3793.0\n",
            "15    2750.0\n",
            "16    2152.0\n",
            "17    3000.0\n",
            "18       0.0\n",
            "19    3230.0\n",
            "20    2430.0\n",
            "21    3642.0\n",
            "22    2820.0\n",
            "23    3000.0\n",
            "24    2460.0\n",
            "25    3345.0\n",
            "26    2500.0\n",
            "27    2410.0\n",
            "28       0.0\n",
            "29    2800.0\n",
            "30    3803.0\n",
            "31    2430.0\n",
            "Name: Calories, dtype: float64\n"
          ]
        }
      ],
      "source": [
        "DfCopia['Calories'].fillna(0, inplace=True)      #7\n",
        "print(DfCopia['Calories'])"
      ]
    },
    {
      "cell_type": "code",
      "execution_count": 19,
      "metadata": {
        "colab": {
          "base_uri": "https://localhost:8080/"
        },
        "id": "Gil9zlVwqTc7",
        "outputId": "796a3624-321f-4b6f-fdb6-681000dce1ed"
      },
      "outputs": [
        {
          "output_type": "stream",
          "name": "stdout",
          "text": [
            "0     2020/12/01\n",
            "1     2020/12/02\n",
            "2     2020/12/03\n",
            "3     2020/12/04\n",
            "4     2020/12/05\n",
            "5     2020/12/06\n",
            "6     2020/12/07\n",
            "7     2020/12/08\n",
            "8     2020/12/09\n",
            "9     2020/12/10\n",
            "10    2020/12/11\n",
            "11    2020/12/12\n",
            "12    2020/12/12\n",
            "13    2020/12/13\n",
            "14    2020/12/14\n",
            "15    2020/12/15\n",
            "16    2020/12/16\n",
            "17    2020/12/17\n",
            "18    2020/12/18\n",
            "19    2020/12/19\n",
            "20    2020/12/20\n",
            "21    2020/12/21\n",
            "22    1900/01/01\n",
            "23    2020/12/23\n",
            "24    2020/12/24\n",
            "25    2020/12/25\n",
            "26      20201226\n",
            "27    2020/12/27\n",
            "28    2020/12/28\n",
            "29    2020/12/29\n",
            "30    2020/12/30\n",
            "31    2020/12/31\n",
            "Name: Date, dtype: object\n"
          ]
        }
      ],
      "source": [
        "DfCopia[\"Date\"].fillna('1900/01/01', inplace=True)      #8\n",
        "DfCopia['Date'] = DfCopia['Date'].astype(str).str.strip(\"'\")\n",
        "\n",
        "DfCopia[\"Date\"]=pd.to_datetime(DfCopia[\"Date\"],format='%Y/%m/%d', errors=\"ignore\")\n",
        "print(DfCopia[\"Date\"])"
      ]
    },
    {
      "cell_type": "code",
      "execution_count": 20,
      "metadata": {
        "colab": {
          "base_uri": "https://localhost:8080/"
        },
        "id": "YbtSo8dfr7e6",
        "outputId": "acc4710b-7b13-4214-934e-d495870f95d6"
      },
      "outputs": [
        {
          "output_type": "stream",
          "name": "stdout",
          "text": [
            "0     2020/12/01\n",
            "1     2020/12/02\n",
            "2     2020/12/03\n",
            "3     2020/12/04\n",
            "4     2020/12/05\n",
            "5     2020/12/06\n",
            "6     2020/12/07\n",
            "7     2020/12/08\n",
            "8     2020/12/09\n",
            "9     2020/12/10\n",
            "10    2020/12/11\n",
            "11    2020/12/12\n",
            "12    2020/12/12\n",
            "13    2020/12/13\n",
            "14    2020/12/14\n",
            "15    2020/12/15\n",
            "16    2020/12/16\n",
            "17    2020/12/17\n",
            "18    2020/12/18\n",
            "19    2020/12/19\n",
            "20    2020/12/20\n",
            "21    2020/12/21\n",
            "22           NaT\n",
            "23    2020/12/23\n",
            "24    2020/12/24\n",
            "25    2020/12/25\n",
            "26      20201226\n",
            "27    2020/12/27\n",
            "28    2020/12/28\n",
            "29    2020/12/29\n",
            "30    2020/12/30\n",
            "31    2020/12/31\n",
            "Name: Date, dtype: object\n"
          ]
        }
      ],
      "source": [
        "DfCopia[\"Date\"].replace(\"1900/01/01\", pd.NaT, inplace=True)     #9\n",
        "DfCopia[\"Date\"]=pd.to_datetime(DfCopia[\"Date\"],format='%Y/%m/%d', errors=\"ignore\")\n",
        "print(DfCopia[\"Date\"])"
      ]
    },
    {
      "cell_type": "code",
      "execution_count": 21,
      "metadata": {
        "colab": {
          "base_uri": "https://localhost:8080/"
        },
        "id": "nbF6BvNAsnZo",
        "outputId": "f4c55141-1e51-4199-fc0d-f229dbfd68bf"
      },
      "outputs": [
        {
          "output_type": "stream",
          "name": "stdout",
          "text": [
            "0    2020-12-01\n",
            "1    2020-12-02\n",
            "2    2020-12-03\n",
            "3    2020-12-04\n",
            "4    2020-12-05\n",
            "5    2020-12-06\n",
            "6    2020-12-07\n",
            "7    2020-12-08\n",
            "8    2020-12-09\n",
            "9    2020-12-10\n",
            "10   2020-12-11\n",
            "11   2020-12-12\n",
            "12   2020-12-12\n",
            "13   2020-12-13\n",
            "14   2020-12-14\n",
            "15   2020-12-15\n",
            "16   2020-12-16\n",
            "17   2020-12-17\n",
            "18   2020-12-18\n",
            "19   2020-12-19\n",
            "20   2020-12-20\n",
            "21   2020-12-21\n",
            "22          NaT\n",
            "23   2020-12-23\n",
            "24   2020-12-24\n",
            "25   2020-12-25\n",
            "26   2020-12-26\n",
            "27   2020-12-27\n",
            "28   2020-12-28\n",
            "29   2020-12-29\n",
            "30   2020-12-30\n",
            "31   2020-12-31\n",
            "Name: Date, dtype: datetime64[ns]\n"
          ]
        }
      ],
      "source": [
        "DfCopia[\"Date\"]=DfCopia[\"Date\"].astype(str).replace({ \"20201226\": \"2020/12/26\"})     #10\n",
        "DfCopia['Date'] = pd.to_datetime(DfCopia['Date'], format='%Y/%m/%d', errors='coerce')\n",
        "\n",
        "print(DfCopia['Date'])"
      ]
    },
    {
      "cell_type": "code",
      "execution_count": 22,
      "metadata": {
        "colab": {
          "base_uri": "https://localhost:8080/"
        },
        "id": "TYy8168zuFmz",
        "outputId": "3e49f666-0dc9-433a-caf1-e681b25c295d"
      },
      "outputs": [
        {
          "output_type": "stream",
          "name": "stdout",
          "text": [
            "    ID  Duration       Date  Pulse  Maxpulse  Calories\n",
            "0    0        60 2020-12-01    110       130    4091.0\n",
            "1    1        60 2020-12-02    117       145    4790.0\n",
            "2    2        60 2020-12-03    103       135    3400.0\n",
            "3    3        45 2020-12-04    109       175    2824.0\n",
            "4    4        45 2020-12-05    117       148    4060.0\n",
            "5    5        60 2020-12-06    102       127    3000.0\n",
            "6    6        60 2020-12-07    110       136    3740.0\n",
            "7    7       450 2020-12-08    104       134    2533.0\n",
            "8    8        30 2020-12-09    109       133    1951.0\n",
            "9    9        60 2020-12-10     98       124    2690.0\n",
            "10  10        60 2020-12-11    103       147    3293.0\n",
            "11  11        60 2020-12-12    100       120    2507.0\n",
            "12  12        60 2020-12-12    100       120    2507.0\n",
            "13  13        60 2020-12-13    106       128    3453.0\n",
            "14  14        60 2020-12-14    104       132    3793.0\n",
            "15  15        60 2020-12-15     98       123    2750.0\n",
            "16  16        60 2020-12-16     98       120    2152.0\n",
            "17  17        60 2020-12-17    100       120    3000.0\n",
            "18  18        45 2020-12-18     90       112       0.0\n",
            "19  19        60 2020-12-19    103       123    3230.0\n",
            "20  20        45 2020-12-20     97       125    2430.0\n",
            "21   1        60 2020-12-21    108       131    3642.0\n",
            "23  23        60 2020-12-23    130       101    3000.0\n",
            "24  24        45 2020-12-24    105       132    2460.0\n",
            "25  25        60 2020-12-25    102       126    3345.0\n",
            "26  26        60 2020-12-26    100       120    2500.0\n",
            "27  27        60 2020-12-27     92       118    2410.0\n",
            "28  28        60 2020-12-28    103       132       0.0\n",
            "29  29        60 2020-12-29    100       132    2800.0\n",
            "30  30        60 2020-12-30    102       129    3803.0\n",
            "31  31        60 2020-12-31     92       115    2430.0\n"
          ]
        }
      ],
      "source": [
        "DfCopia.dropna(subset=['Date'], inplace=True)      #11\n",
        "print(DfCopia)"
      ]
    }
  ],
  "metadata": {
    "colab": {
      "collapsed_sections": [
        "JC0kCQPDPfaO",
        "orhJa4GSTQKy",
        "PGeOCdPkXc8A",
        "MevzjfkFYo9x",
        "CfUoFr9iaAgR"
      ],
      "toc_visible": true,
      "provenance": [],
      "authorship_tag": "ABX9TyNM/xnRFz92kSIsTlQVUDJQ",
      "include_colab_link": true
    },
    "kernelspec": {
      "display_name": "Python 3",
      "name": "python3"
    },
    "language_info": {
      "name": "python"
    }
  },
  "nbformat": 4,
  "nbformat_minor": 0
}